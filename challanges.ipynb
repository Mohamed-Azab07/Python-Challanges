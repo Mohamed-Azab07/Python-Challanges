{
 "cells": [
  {
   "cell_type": "code",
   "execution_count": 1,
   "metadata": {},
   "outputs": [
    {
     "name": "stdout",
     "output_type": "stream",
     "text": [
      "CHALLANGE #1\n",
      "************\n",
      "Welcome Mohamed Azab\n"
     ]
    }
   ],
   "source": [
    "print(\"CHALLANGE #1\")\n",
    "print(\"************\")\n",
    "\n",
    "f_name = input(\"Type your first name: \")\n",
    "l_name = input(\"Type your second name: \")\n",
    "\n",
    "msg = f\"Welcome {f_name} {l_name}\"\n",
    "\n",
    "print(msg)"
   ]
  },
  {
   "cell_type": "code",
   "execution_count": 4,
   "metadata": {},
   "outputs": [
    {
     "name": "stdout",
     "output_type": "stream",
     "text": [
      "CHALLANGE #2\n",
      "************\n"
     ]
    },
    {
     "data": {
      "text/plain": [
       "12"
      ]
     },
     "execution_count": 4,
     "metadata": {},
     "output_type": "execute_result"
    }
   ],
   "source": [
    "print(\"CHALLANGE #2\")\n",
    "print(\"************\")\n",
    "\n",
    "user_input = input(\"Enter the list of numbers to add: \").strip().split(\",\")\n",
    "\n",
    "# # Converting string to number using iteration\n",
    "# nums = []\n",
    "# for n in range(len(user_input)):\n",
    "#     nums.append(int(user_input[n]))\n",
    "# print(nums)\n",
    "# # Finding sum using iteration\n",
    "# total_sum = 0\n",
    "# for n in range(len(nums)):\n",
    "#     total_sum += nums[n]\n",
    "\n",
    "# print(f\"The total is : {total_sum}\")\n",
    "\n",
    "# Converting string to number and add using recursion\n",
    "def to_nums(n):\n",
    "    if len(n) == 0:\n",
    "        return 0\n",
    "    else:\n",
    "        return int(n[0]) + to_nums(n[1:])\n",
    "\n",
    "to_nums(user_input)"
   ]
  },
  {
   "cell_type": "code",
   "execution_count": 12,
   "metadata": {},
   "outputs": [
    {
     "name": "stdout",
     "output_type": "stream",
     "text": [
      "CHALLANGE #3\n",
      "************\n",
      "Each person will pay : $7.75\n"
     ]
    }
   ],
   "source": [
    "print(\"CHALLANGE #3\")\n",
    "print(\"************\")\n",
    "\n",
    "user_input = input(\"The total price of the bill: $\")\n",
    "nums_input = input(\"Number of people: \")\n",
    "\n",
    "bill = int(user_input)\n",
    "people = int(nums_input)\n",
    "\n",
    "paying_each = round(bill / people, 2)\n",
    "\n",
    "print(f\"Each person will pay : ${paying_each}\")\n",
    "\n"
   ]
  },
  {
   "cell_type": "code",
   "execution_count": 13,
   "metadata": {},
   "outputs": [
    {
     "name": "stdout",
     "output_type": "stream",
     "text": [
      "CHALLANGE #4\n",
      "************\n"
     ]
    },
    {
     "data": {
      "text/plain": [
       "'10 days has 240 hours and 14400 minutes'"
      ]
     },
     "execution_count": 13,
     "metadata": {},
     "output_type": "execute_result"
    }
   ],
   "source": [
    "print(\"CHALLANGE #4\")\n",
    "print(\"************\")\n",
    "\n",
    "user_input = input(\"Enter number of days: \")\n",
    "\n",
    "days = int(user_input)\n",
    "\n",
    "def calc_days(n):\n",
    "    hours = n * 24\n",
    "    minutes = n * 24 * 60\n",
    "    return f\"{n} days has {hours} hours and {minutes} minutes\"\n",
    "\n",
    "calc_days(days)"
   ]
  },
  {
   "cell_type": "code",
   "execution_count": 15,
   "metadata": {},
   "outputs": [
    {
     "name": "stdout",
     "output_type": "stream",
     "text": [
      "CHALLANGE #5\n",
      "************\n",
      "The number 2 is 600 smaller than 1200\n"
     ]
    }
   ],
   "source": [
    "print(\"CHALLANGE #5\")\n",
    "print(\"************\")\n",
    "\n",
    "num_over_100 = int(input(\"Enter number over 100: \"))\n",
    "num_less_10 = int(input(\"Enter number less 10: \"))\n",
    "\n",
    "times = num_over_100 // num_less_10\n",
    "\n",
    "print(f\"The number {num_less_10} is {times} smaller than {num_over_100}\")"
   ]
  },
  {
   "cell_type": "code",
   "execution_count": 17,
   "metadata": {},
   "outputs": [
    {
     "name": "stdout",
     "output_type": "stream",
     "text": [
      "CHALLANGE #6\n",
      "************\n",
      "The first number is : 10\n",
      "The second number is : 10\n",
      "10 10 are equal\n"
     ]
    }
   ],
   "source": [
    "print(\"CHALLANGE #6\")\n",
    "print(\"************\")\n",
    "\n",
    "first_num = int(input(\"Enter first number: \"))\n",
    "second_num = int(input(\"Enter second number: \"))\n",
    "\n",
    "print(f\"The first number is : {first_num}\")\n",
    "print(f\"The second number is : {second_num}\")\n",
    "\n",
    "if first_num > second_num:\n",
    "    print(f\"{first_num} {second_num}\")\n",
    "elif first_num < second_num:\n",
    "    print(f\"{second_num} {first_num}\")\n",
    "else:\n",
    "    print(f\"{first_num} {second_num} are equal\")\n"
   ]
  },
  {
   "cell_type": "code",
   "execution_count": 22,
   "metadata": {},
   "outputs": [
    {
     "name": "stdout",
     "output_type": "stream",
     "text": [
      "CHALLANGE #7\n",
      "************\n",
      "The Guess is : 18\n",
      "The Answer is : 20\n",
      "Too Low\n"
     ]
    }
   ],
   "source": [
    "print(\"CHALLANGE #7\")\n",
    "print(\"************\")\n",
    "import random\n",
    "\n",
    "guess = int(input(\"Enter number: \"))\n",
    "print(f\"The Guess is : {guess}\")\n",
    "answer = random.randint(1, 20)\n",
    "print(f\"The Answer is : {answer}\")\n",
    "\n",
    "if guess == answer:\n",
    "    print(\"You got it!, your guess is right\")\n",
    "elif guess > answer:\n",
    "    print(\"Too High\")\n",
    "else:\n",
    "    print(\"Too Low\")"
   ]
  },
  {
   "cell_type": "code",
   "execution_count": 24,
   "metadata": {},
   "outputs": [
    {
     "name": "stdout",
     "output_type": "stream",
     "text": [
      "CHALLANGE #8\n",
      "************\n",
      "It is too windy for an umbrella\n"
     ]
    }
   ],
   "source": [
    "print(\"CHALLANGE #8\")\n",
    "print(\"************\")\n",
    "\n",
    "raining = input(\"Is it raining ?. type 'yes' or 'no': \").lower()\n",
    "\n",
    "if raining == \"yes\":\n",
    "    windy = input(\"Is it windy ? type 'yes' or 'no': \").lower()\n",
    "    if windy == \"yes\":\n",
    "        print(\"It is too windy for an umbrella\")\n",
    "    else:\n",
    "        print(\"Take an umbrella\")\n",
    "else:\n",
    "    print(\"Enjoy your day !\")\n"
   ]
  },
  {
   "cell_type": "code",
   "execution_count": 26,
   "metadata": {},
   "outputs": [
    {
     "name": "stdout",
     "output_type": "stream",
     "text": [
      "CHALLANGE #9\n",
      "************\n",
      "Your Previliges\n",
      "You can go Trick-or-Treating\n"
     ]
    }
   ],
   "source": [
    "print(\"CHALLANGE #9\")\n",
    "print(\"************\")\n",
    "\n",
    "print(\"Your Previliges\")\n",
    "\n",
    "age = int(input(\"Enter your age: \"))\n",
    "\n",
    "if age >= 18:\n",
    "    print(\"You can vote\")\n",
    "elif age == 17:\n",
    "    print(\"You can learn to drive\")\n",
    "elif age == 16:\n",
    "    print(\"You can buy a lottery ticket\")\n",
    "else:\n",
    "    print(\"You can go Trick-or-Treating\")"
   ]
  },
  {
   "cell_type": "code",
   "execution_count": 31,
   "metadata": {},
   "outputs": [
    {
     "name": "stdout",
     "output_type": "stream",
     "text": [
      "CHALLANGE #10\n",
      "*************\n",
      "['mohamed', 'azab']\n",
      "mohamedazab\n",
      "The length of your fist and last name: 11\n"
     ]
    }
   ],
   "source": [
    "print(\"CHALLANGE #10\")\n",
    "print(\"*************\")\n",
    "\n",
    "user_input = input(\"Type first name and surname with space: \").strip().split(\" \")\n",
    "\n",
    "print(user_input)\n",
    "\n",
    "name = \"\"\n",
    "for item in range(len(user_input)):\n",
    "    name += user_input[item]\n",
    "\n",
    "print(name)\n",
    "print(f\"The length of your fist and last name: {len(name)}\")"
   ]
  },
  {
   "cell_type": "code",
   "execution_count": 35,
   "metadata": {},
   "outputs": [
    {
     "name": "stdout",
     "output_type": "stream",
     "text": [
      "CHALLANGE #11\n",
      "*************\n",
      "['Mohamed', 'Azab']\n"
     ]
    },
    {
     "data": {
      "text/plain": [
       "11"
      ]
     },
     "execution_count": 35,
     "metadata": {},
     "output_type": "execute_result"
    }
   ],
   "source": [
    "print(\"CHALLANGE #11\")\n",
    "print(\"*************\")\n",
    "\n",
    "user_input = input(\"Type first name and surname with space: \").strip().split(\" \")\n",
    "\n",
    "print(user_input)\n",
    "\n",
    "# name = \"\"\n",
    "# for item in range(len(user_input)):\n",
    "#     name += user_input[item]\n",
    "\n",
    "# print(name)\n",
    "# print(f\"The length of your fist and last name: {len(name)}\")\n",
    "\n",
    "def count_len(n):\n",
    "    if len(n) == 0:\n",
    "        return 0\n",
    "    else:\n",
    "        return  len(n[0]) + count_len(n[1:])\n",
    "\n",
    "count_len(user_input)"
   ]
  },
  {
   "cell_type": "code",
   "execution_count": 38,
   "metadata": {},
   "outputs": [
    {
     "name": "stdout",
     "output_type": "stream",
     "text": [
      "CHALLANGE #12\n",
      "*************\n",
      "[2, 4, 8]\n"
     ]
    },
    {
     "data": {
      "text/plain": [
       "64"
      ]
     },
     "execution_count": 38,
     "metadata": {},
     "output_type": "execute_result"
    }
   ],
   "source": [
    "print(\"CHALLANGE #12\")\n",
    "print(\"*************\")\n",
    "\n",
    "user_input = input(\"Enter Nums: \").strip().split(\",\")\n",
    "\n",
    "nums = []\n",
    "for n in range(len(user_input)):\n",
    "    nums.append(int(user_input[n]))\n",
    "\n",
    "print(nums)\n",
    "\n",
    "def find_mult(n):\n",
    "    if len(n) == 0:\n",
    "        return 1\n",
    "    else:\n",
    "        return n[0] * find_mult(n[1:])\n",
    "\n",
    "find_mult(nums)"
   ]
  },
  {
   "cell_type": "code",
   "execution_count": 42,
   "metadata": {},
   "outputs": [
    {
     "name": "stdout",
     "output_type": "stream",
     "text": [
      "CHALLANGE #13\n",
      "*************\n",
      "A\n",
      "AA\n",
      "AAA\n",
      "Z\n",
      "ZZ\n",
      "ZZZ\n",
      "B\n",
      "BB\n",
      "BBB\n"
     ]
    }
   ],
   "source": [
    "print(\"CHALLANGE #13\")\n",
    "print(\"*************\")\n",
    "\n",
    "user_input = input(\"Enter name: \")\n",
    "nums = int(input(\"How many times to display: \"))\n",
    "\n",
    "# for n in range(1, nums + 1):\n",
    "#     print(f\"{user_input}\")\n",
    "\n",
    "for char in user_input:\n",
    "    for i in range(1, nums + 1):\n",
    "        print(char * i)\n"
   ]
  },
  {
   "cell_type": "code",
   "execution_count": 45,
   "metadata": {},
   "outputs": [
    {
     "name": "stdout",
     "output_type": "stream",
     "text": [
      "CHALLANGE #14\n",
      "*************\n",
      "['A', 'B', 'C']\n",
      "You did not enter all names !\n"
     ]
    }
   ],
   "source": [
    "print(\"CHALLANGE #14\")\n",
    "print(\"*************\")\n",
    "\n",
    "nums = int(input(\"How many people to display: \"))\n",
    "\n",
    "if nums >= 10:\n",
    "    print(f\"Too many people, there are few places\")\n",
    "else:\n",
    "    names = input(\"Type there names seperated by space: \").strip().split(\",\")\n",
    "\n",
    "    print(names)\n",
    "    if len(names) == nums:\n",
    "        for name in range(len(names)):\n",
    "            print(f\"{names[name]} is invited.\")\n",
    "    else:\n",
    "        print(\"You did not enter all names !\")\n",
    "\n"
   ]
  },
  {
   "cell_type": "code",
   "execution_count": 47,
   "metadata": {},
   "outputs": [
    {
     "name": "stdout",
     "output_type": "stream",
     "text": [
      "CHALLANGE #15\n",
      "*************\n",
      "0\n",
      "10\n",
      "10\n",
      "22\n",
      "22\n",
      "37\n",
      "37\n",
      "49\n",
      "49\n",
      "51\n"
     ]
    }
   ],
   "source": [
    "print(\"CHALLANGE #15\")\n",
    "print(\"*************\")\n",
    "\n",
    "total_sum = 0\n",
    "\n",
    "while total_sum < 50:\n",
    "    user_input = int(input(\"Enter a number: \"))\n",
    "    print(f\"{total_sum}\")\n",
    "    total_sum += user_input\n",
    "    print(f\"{total_sum}\")"
   ]
  },
  {
   "cell_type": "code",
   "execution_count": 49,
   "metadata": {},
   "outputs": [
    {
     "name": "stdout",
     "output_type": "stream",
     "text": [
      "CHALLANGE #16\n",
      "*************\n",
      "1\n",
      "2\n",
      "1\n",
      "2\n",
      "3\n",
      "5\n",
      "4\n",
      "6\n",
      "The last number you entered was 6\n"
     ]
    }
   ],
   "source": [
    "print(\"CHALLANGE #16\")\n",
    "print(\"*************\")\n",
    "\n",
    "num = 0\n",
    "while num <= 5:\n",
    "\n",
    "    user_input = int(input(\"Enter a number over 5: \"))\n",
    "    num = user_input\n",
    "    print(num)\n",
    "else:\n",
    "    print(f\"The last number you entered was {num}\")"
   ]
  },
  {
   "cell_type": "code",
   "execution_count": 51,
   "metadata": {},
   "outputs": [
    {
     "name": "stdout",
     "output_type": "stream",
     "text": [
      "CHALLANGE #17\n",
      "*************\n",
      "The total with only two numbers is : 9\n",
      "The total with new numbers is : 14\n",
      "The total with new numbers is : 19\n"
     ]
    }
   ],
   "source": [
    "print(\"CHALLANGE #17\")\n",
    "print(\"*************\")\n",
    "\n",
    "num1 = int(input(\"Enter Num 1: \"))\n",
    "num2 = int(input(\"Enter Num 2: \"))\n",
    "\n",
    "total_sum = num1 + num2\n",
    "print(f\"The total with only two numbers is : {total_sum}\")\n",
    "finished = False\n",
    "while finished == False:\n",
    "    action = input(\"Do you want to add a new number. Type y or n: \")\n",
    "    if action == \"y\":\n",
    "        num3 = int(input(\"Enter a number: \"))\n",
    "        total_sum += num3\n",
    "        print(f\"The total with new numbers is : {total_sum}\")\n",
    "    else:\n",
    "        finished = True\n"
   ]
  },
  {
   "cell_type": "code",
   "execution_count": 5,
   "metadata": {},
   "outputs": [
    {
     "name": "stdout",
     "output_type": "stream",
     "text": [
      "CHALLANGE #18\n",
      "*************\n",
      "'Mohamed' is invited to the party.\n",
      "'Marta' is invited to the party.\n",
      "'Eric' is invited to the party.\n",
      "'Anastasia' is invited to the party.\n",
      "'Irina' is invited to the party.\n",
      "Number of invited people is : 5\n",
      "The people invited are : ['Mohamed', 'Marta', 'Eric', 'Anastasia', 'Irina']\n"
     ]
    }
   ],
   "source": [
    "print(\"CHALLANGE #18\")\n",
    "print(\"*************\")\n",
    "\n",
    "all_invited = False\n",
    "\n",
    "num_of_invited = 0\n",
    "who_invited = []\n",
    "while all_invited == False:\n",
    "    user_input = input(\"Who do you want to invite?: \")\n",
    "    if user_input == \"no\":\n",
    "        all_invited = True\n",
    "    elif user_input != \"\":\n",
    "        num_of_invited += 1\n",
    "        who_invited.append(user_input)\n",
    "for name in range(len(who_invited)):\n",
    "    print(f\"'{who_invited[name]}' is invited to the party.\")\n",
    "    \n",
    "\n",
    "print(f\"Number of invited people is : {num_of_invited}\")\n",
    "print(f\"The people invited are : {who_invited}\")"
   ]
  },
  {
   "cell_type": "code",
   "execution_count": 11,
   "metadata": {},
   "outputs": [
    {
     "name": "stdout",
     "output_type": "stream",
     "text": [
      "CHALLANGE #19\n",
      "*************\n",
      "Too Low, your guess is 15\n",
      "You got it !, the answer is 20.\n",
      "1\n"
     ]
    }
   ],
   "source": [
    "print(\"CHALLANGE #19\")\n",
    "print(\"*************\")\n",
    "import random\n",
    "\n",
    "game_done = False\n",
    "attempts = 0\n",
    "answer = random.randint(1, 20)\n",
    "while game_done == False:\n",
    "    guess = int(input(\"Enter the number: \"))\n",
    "    \n",
    "    if guess == answer:\n",
    "        print(f\"You got it !, the answer is {guess}.\")\n",
    "        game_done = True\n",
    "    elif guess > answer:\n",
    "        print(f\"Too High, your guess is {guess}\")\n",
    "        attempts += 1\n",
    "    else:\n",
    "        print(f\"Too Low, your guess is {guess}\")\n",
    "        attempts += 1 \n",
    "\n",
    "print(attempts)\n"
   ]
  },
  {
   "cell_type": "code",
   "execution_count": 38,
   "metadata": {},
   "outputs": [
    {
     "name": "stdout",
     "output_type": "stream",
     "text": [
      "CHALLANGE #20\n",
      "*************\n",
      "You Won !\n"
     ]
    }
   ],
   "source": [
    "print(\"CHALLANGE #20\")\n",
    "print(\"*************\")\n",
    "\n",
    "my_cities = [\"Saint Petersburg\", \"Moscow\", \"Madrid\", \"Barcelona\", \"London\", \"Berlin\"]\n",
    "\n",
    "guess = random.choice(my_cities)\n",
    "if guess == \"Saint Petersburg\":\n",
    "    print(\"You Won !\")\n",
    "else:\n",
    "    print(\"Good Luck Next Time !\")"
   ]
  },
  {
   "cell_type": "code",
   "execution_count": 4,
   "metadata": {},
   "outputs": [
    {
     "name": "stdout",
     "output_type": "stream",
     "text": [
      "CHALLANGE #21\n",
      "*************\n",
      "Bad Luck.\n",
      "The right answer is : h\n"
     ]
    }
   ],
   "source": [
    "print(\"CHALLANGE #21\")\n",
    "print(\"*************\")\n",
    "import random\n",
    "guess = input(\"Type 'h' or 't' and see if you will win: \").lower()\n",
    "\n",
    "answer = random.choice([\"h\", \"t\"])\n",
    "\n",
    "if guess == answer:\n",
    "    print(\"You Win.\")\n",
    "else:\n",
    "    print(\"Bad Luck.\")\n",
    "    print(f\"The right answer is : {answer}\")"
   ]
  },
  {
   "cell_type": "code",
   "execution_count": 6,
   "metadata": {},
   "outputs": [
    {
     "name": "stdout",
     "output_type": "stream",
     "text": [
      "CHALLANGE #22\n",
      "*************\n",
      "The answer is: 5\n",
      "Too Low.\n",
      "Too Low.\n"
     ]
    }
   ],
   "source": [
    "print(\"CHALLANGE #22\")\n",
    "print(\"*************\")\n",
    "import random\n",
    "guess = int(input(\"Choose a number between 1 and 5: \"))\n",
    "\n",
    "answer = random.choice([1, 2, 3, 4, 5])\n",
    "print(f\"The answer is: {answer}\")\n",
    "attempts = 2\n",
    "\n",
    "while attempts != 0:\n",
    "    if guess == answer:\n",
    "        print(\"Well Done.\")\n",
    "        attempts = 0\n",
    "    elif guess > answer:\n",
    "        print(\"Too High.\") \n",
    "        attempts -= 1\n",
    "        again = int(input(\"Try again: \"))\n",
    "    else:\n",
    "        again = int(input(\"Try again: \"))\n",
    "        print(\"Too Low.\") \n",
    "        attempts -= 1\n",
    "        \n"
   ]
  },
  {
   "cell_type": "code",
   "execution_count": 10,
   "metadata": {},
   "outputs": [
    {
     "name": "stdout",
     "output_type": "stream",
     "text": [
      "CHALLANGE #23\n",
      "*************\n",
      "The answer is : 3\n",
      "Too Low.\n",
      "Too Low.\n",
      "Too High.\n",
      "Too High.\n",
      "Too High.\n",
      "Too High.\n",
      "Too High.\n",
      "Well Done.\n"
     ]
    }
   ],
   "source": [
    "print(\"CHALLANGE #23\")\n",
    "print(\"*************\")\n",
    "import random\n",
    "guess = int(input(\"Choose a number between 1 and 10: \"))\n",
    "\n",
    "answer = random.randint(1, 10)\n",
    "print(f\"The answer is : {answer}\")\n",
    "while guess != answer:\n",
    "    if guess == answer:\n",
    "        print(\"Well Done.\")\n",
    "    elif guess > answer:\n",
    "        print(\"Too High.\")\n",
    "        guess = int(input(\"Try again: \"))\n",
    "    else:\n",
    "        print(\"Too Low.\")\n",
    "        guess = int(input(\"Try again: \"))\n",
    "else:\n",
    "    print(\"Well Done.\")"
   ]
  },
  {
   "cell_type": "code",
   "execution_count": 3,
   "metadata": {},
   "outputs": [
    {
     "name": "stdout",
     "output_type": "stream",
     "text": [
      "CHALLANGE #24\n",
      "*************\n",
      "19 + 1 = \n",
      "3 + 14 = \n",
      "16 + 28 = \n",
      "45 + 39 = \n",
      "50 + 26 = \n",
      "41 + 38 = \n",
      "Your score is : 1 out of 5\n"
     ]
    }
   ],
   "source": [
    "print(\"CHALLANGE #24\")\n",
    "print(\"*************\")\n",
    "import random\n",
    "score = 0\n",
    "for i in range(1, 6):\n",
    "    num1 = random.randint(1, 50)\n",
    "    num2 = random.randint(1, 50)\n",
    "    correct = num1 + num2\n",
    "    print(f\"{num1} + {num2} = \")\n",
    "    ans = int(input(\"Your answer: \"))\n",
    "\n",
    "    if ans == correct:\n",
    "        score += 1\n",
    "    else:\n",
    "        score += 0\n",
    "print(f\"Your score is : {score} out of 5\")"
   ]
  },
  {
   "cell_type": "code",
   "execution_count": 10,
   "metadata": {},
   "outputs": [
    {
     "name": "stdout",
     "output_type": "stream",
     "text": [
      "CHALLANGE #25\n",
      "*************\n",
      "['Tennis', 'Volleyball', 'Football']\n"
     ]
    }
   ],
   "source": [
    "print(\"CHALLANGE #25\")\n",
    "print(\"*************\")\n",
    "\n",
    "\n",
    "sports_list = [\"Tennis\", \"Volleyball\"]\n",
    "user_input = input(\"Add a sport: \")\n",
    "sports_list.append(user_input)\n",
    "print(sports_list)\n"
   ]
  },
  {
   "cell_type": "code",
   "execution_count": 17,
   "metadata": {},
   "outputs": [
    {
     "name": "stdout",
     "output_type": "stream",
     "text": [
      "CHALLANGE #26\n",
      "*************\n",
      "{'1': ['orange']}\n",
      "{'2': ['apple']}\n"
     ]
    }
   ],
   "source": [
    "print(\"CHALLANGE #26\")\n",
    "print(\"*************\")\n",
    "\n",
    "is_done = False\n",
    "\n",
    "while is_done == False:\n",
    "    user_input = input(\"Add type of food and what is seperated by comma: \").strip().split(\",\")\n",
    "    # print(user_input)\n",
    "    \n",
    "    # food_dict[user_input[0]] = user_input[1]\n",
    "    def add_dict(key, value):\n",
    "        food_dict = {}\n",
    "        food_dict[key] = [value]\n",
    "        return food_dict\n",
    "    print(add_dict(user_input[0], user_input[1]))\n",
    "    action = input(\"y or n: \")\n",
    "    if action == \"n\":\n",
    "        is_done = True\n",
    "    "
   ]
  },
  {
   "cell_type": "code",
   "execution_count": 21,
   "metadata": {},
   "outputs": [
    {
     "name": "stdout",
     "output_type": "stream",
     "text": [
      "CHALLANGE #27\n",
      "*************\n",
      "Number of invited people to party is : 3\n",
      "Marta has been invited.\n",
      "Azab has been invited.\n",
      "Eric has been invited.\n"
     ]
    }
   ],
   "source": [
    "print(\"CHALLANGE #27\")\n",
    "print(\"*************\")\n",
    "\n",
    "all_invited = False\n",
    "list_of_people = []\n",
    "while all_invited == False:\n",
    "    user_input = input(\"Type a invited person: \")\n",
    "    \n",
    "    list_of_people.append(user_input)\n",
    "\n",
    "    action = input(\"Add more: \")\n",
    "    if action == \"n\":\n",
    "        all_invited = True\n",
    "\n",
    "print(f\"Number of invited people to party is : {len(list_of_people)}\")\n",
    "for person in range(len(list_of_people)):\n",
    "    print(f\"{list_of_people[person]} has been invited.\")"
   ]
  },
  {
   "cell_type": "code",
   "execution_count": 25,
   "metadata": {},
   "outputs": [
    {
     "name": "stdout",
     "output_type": "stream",
     "text": [
      "CHALLANGE #28\n",
      "*************\n",
      "The list before adding\n",
      "Show1\n",
      "Show2\n",
      "Show3\n",
      "Show4\n",
      "************************************************************\n",
      "The list after adding\n",
      "Show1\n",
      "Show2\n",
      "Show10\n",
      "Show3\n",
      "Show4\n"
     ]
    }
   ],
   "source": [
    "print(\"CHALLANGE #28\")\n",
    "print(\"*************\")\n",
    "\n",
    "print(\"The list before adding\")\n",
    "tv_shows = [\"Show1\", \"Show2\", \"Show3\", \"Show4\"]\n",
    "for show in range(len(tv_shows)):\n",
    "    print(tv_shows[show])\n",
    "\n",
    "user_input = input(\"Type a TV Show: \")\n",
    "pos = int(input(\"Where to put the show starting from 1: \"))\n",
    "\n",
    "new_pos = pos - 1\n",
    "\n",
    "tv_shows.insert(new_pos, user_input)\n",
    "\n",
    "print(\"*\" * 60)\n",
    "print(\"The list after adding\")\n",
    "for show in range(len(tv_shows)):\n",
    "    print(tv_shows[show])"
   ]
  },
  {
   "cell_type": "code",
   "execution_count": 26,
   "metadata": {},
   "outputs": [
    {
     "name": "stdout",
     "output_type": "stream",
     "text": [
      "CHALLANGE #29\n",
      "*************\n",
      "Your First Name is : Mohamed\n",
      "Your Last Name is : Azab\n",
      "Your Full Name is: Mohamed Azab\n",
      "Length of Full Name is: 12\n"
     ]
    }
   ],
   "source": [
    "print(\"CHALLANGE #29\")\n",
    "print(\"*************\")\n",
    "\n",
    "f_name = input(\"First Name : \")\n",
    "print(f\"Your First Name is : {f_name}\")\n",
    "l_name = input(\"Last Name : \")\n",
    "print(f\"Your Last Name is : {l_name}\")\n",
    "# ------------------------------------------------\n",
    "\n",
    "full_name = f\"{f_name} {l_name}\"\n",
    "print(f\"Your Full Name is: {full_name}\")\n",
    "print(f\"Length of Full Name is: {len(full_name)}\")\n",
    "\n"
   ]
  },
  {
   "cell_type": "code",
   "execution_count": 27,
   "metadata": {},
   "outputs": [
    {
     "name": "stdout",
     "output_type": "stream",
     "text": [
      "CHALLANGE #30\n",
      "*************\n",
      "S-p-a-n-i-s-h-"
     ]
    }
   ],
   "source": [
    "print(\"CHALLANGE #30\")\n",
    "print(\"*************\")\n",
    "\n",
    "user_input = input(\"Type your favourite subject : \")\n",
    "\n",
    "for c in user_input:\n",
    "    print(c, end=\"-\")"
   ]
  },
  {
   "cell_type": "code",
   "execution_count": 28,
   "metadata": {},
   "outputs": [
    {
     "name": "stdout",
     "output_type": "stream",
     "text": [
      "CHALLANGE #31\n",
      "*************\n",
      "BE\n"
     ]
    }
   ],
   "source": [
    "print(\"CHALLANGE #31\")\n",
    "print(\"*************\")\n",
    "\n",
    "user_input = input(\"Enter Postcode: \")\n",
    "\n",
    "start = user_input[0:2]\n",
    "print(start.upper())"
   ]
  },
  {
   "cell_type": "code",
   "execution_count": 7,
   "metadata": {},
   "outputs": [
    {
     "name": "stdout",
     "output_type": "stream",
     "text": [
      "CHALLANGE #32\n",
      "*************\n",
      "mohamed abdalla elsayed azab\n",
      "11\n"
     ]
    }
   ],
   "source": [
    "print(\"CHALLANGE #32\")\n",
    "print(\"*************\")\n",
    "\n",
    "user_input = input(\"Type your name: \").lower()\n",
    "print(user_input)\n",
    "vowels_counter = 0\n",
    "vowels = [\"a\", \"o\", \"e\", \"i\", \"u\"]\n",
    "\n",
    "for c in user_input:\n",
    "    for v in range(len(vowels)):\n",
    "        if c == vowels[v]:\n",
    "            vowels_counter += 1\n",
    "\n",
    "print(vowels_counter) "
   ]
  },
  {
   "cell_type": "code",
   "execution_count": 9,
   "metadata": {},
   "outputs": [
    {
     "name": "stdout",
     "output_type": "stream",
     "text": [
      "CHALLANGE #33\n",
      "*************\n",
      "They must be the same case.\n"
     ]
    }
   ],
   "source": [
    "print(\"CHALLANGE #33\")\n",
    "print(\"*************\")\n",
    "\n",
    "user_pass = input(\"Enter your password: \")\n",
    "pass_again = input(\"Retype your password: \")\n",
    "\n",
    "if user_pass == pass_again:\n",
    "    print(\"Thank you.\")\n",
    "elif user_pass.lower() == pass_again.lower():\n",
    "    print(\"They must be the same case.\")\n",
    "else:\n",
    "    print(\"Incorrect\")"
   ]
  },
  {
   "cell_type": "code",
   "execution_count": 19,
   "metadata": {},
   "outputs": [
    {
     "name": "stdout",
     "output_type": "stream",
     "text": [
      "CHALLANGE #34\n",
      "*************\n",
      "o\n",
      "l\n",
      "l\n",
      "e\n",
      "H\n"
     ]
    }
   ],
   "source": [
    "print(\"CHALLANGE #34\")\n",
    "print(\"*************\")\n",
    "\n",
    "user_input = input(\"Enter word: \")\n",
    "word = list(user_input)\n",
    "for char in range(len(word) - 1, -1, -1):\n",
    "    print(word[char])"
   ]
  },
  {
   "cell_type": "code",
   "execution_count": 20,
   "metadata": {},
   "outputs": [
    {
     "name": "stdout",
     "output_type": "stream",
     "text": [
      "CHALLANGE #35\n",
      "*************\n",
      "o\n",
      "l\n",
      "l\n",
      "e\n",
      "H\n"
     ]
    }
   ],
   "source": [
    "print(\"CHALLANGE #35\")\n",
    "print(\"*************\")\n",
    "\n",
    "user_input = input(\"Enter word: \")\n",
    "length = len(user_input)\n",
    "\n",
    "num = 1\n",
    "for x in user_input:\n",
    "    pos = length - num\n",
    "    letter = user_input[pos]\n",
    "    print(letter)\n",
    "    num = num + 1"
   ]
  },
  {
   "cell_type": "code",
   "execution_count": 30,
   "metadata": {},
   "outputs": [
    {
     "name": "stdout",
     "output_type": "stream",
     "text": [
      "CHALLANGE #37\n",
      "*************\n",
      "1,2,3,4,5,\n"
     ]
    }
   ],
   "source": [
    "print(\"CHALLANGE #37\")\n",
    "print(\"*************\")\n",
    "\n",
    "with open(\"Numbers.txt\", \"r\") as file:\n",
    "    print(file.read())"
   ]
  },
  {
   "cell_type": "code",
   "execution_count": 35,
   "metadata": {},
   "outputs": [
    {
     "name": "stdout",
     "output_type": "stream",
     "text": [
      "CHALLANGE #38\n",
      "*************\n"
     ]
    }
   ],
   "source": [
    "print(\"CHALLANGE #38\")\n",
    "print(\"*************\")\n",
    "\n",
    "with open(\"Names.txt\", \"w\") as file:\n",
    "    file.write(\"Marta\\n\")\n",
    "    file.write(\"Eric\\n\")\n",
    "    file.write(\"Azab\\n\")\n",
    "    file.write(\"Irina\\n\")\n",
    "    file.write(\"Mohamed\\n\")"
   ]
  },
  {
   "cell_type": "code",
   "execution_count": 32,
   "metadata": {},
   "outputs": [
    {
     "name": "stdout",
     "output_type": "stream",
     "text": [
      "Marta\n",
      "Eric\n",
      "Azab\n",
      "Irina\n",
      "Mohamed\n",
      "\n"
     ]
    }
   ],
   "source": [
    "with open(\"Names.txt\", \"r\") as file:\n",
    "    print(file.read())"
   ]
  },
  {
   "cell_type": "code",
   "execution_count": 37,
   "metadata": {},
   "outputs": [
    {
     "name": "stdout",
     "output_type": "stream",
     "text": [
      "CHALLANGE #39\n",
      "*************\n",
      "Marta\n",
      "Eric\n",
      "Azab\n",
      "Irina\n",
      "Mohamed\n",
      "ax\n",
      "Kotkot\n",
      "\n"
     ]
    }
   ],
   "source": [
    "print(\"CHALLANGE #39\")\n",
    "print(\"*************\")\n",
    "\n",
    "add_name = input(\"Add a new name: \")\n",
    "\n",
    "with open(\"Names.txt\", \"a\") as file:\n",
    "    file.write(f\"{add_name}\\n\")\n",
    "\n",
    "with open(\"Names.txt\", \"r\") as file:\n",
    "    print(file.read())"
   ]
  },
  {
   "cell_type": "code",
   "execution_count": 38,
   "metadata": {},
   "outputs": [
    {
     "name": "stdout",
     "output_type": "stream",
     "text": [
      "CHALLANGE #40\n",
      "*************\n",
      "\n",
      "[1] Create a new File\n",
      "[2] Display the file\n",
      "[3] Add a new item to file\n",
      "\n"
     ]
    }
   ],
   "source": [
    "print(\"CHALLANGE #40\")\n",
    "print(\"*************\")\n",
    "\n",
    "print(\"\"\"\n",
    "[1] Create a new File\n",
    "[2] Display the file\n",
    "[3] Add a new item to file\n",
    "\"\"\")\n",
    "subject = input(\"Type a subject name: \")\n",
    "choice = int(input(\"What operation do you want to perform from 1 to 3: \"))\n",
    "\n",
    "if choice == 1:\n",
    "    with open(f\"{subject}.txt\", \"x\") as file:\n",
    "        file.write(f\"Lecture Notes of {subject}\")\n",
    "elif choice == 2:\n",
    "    with open(f\"{subject}.txt\", \"r\") as file:\n",
    "        file.read()\n",
    "elif choice == 3:\n",
    "    add_items = input(\"Add to file: \")\n",
    "    with open(f\"{subject}.txt\", \"w\") as file:\n",
    "        file.write(add_items)"
   ]
  },
  {
   "cell_type": "code",
   "execution_count": null,
   "metadata": {},
   "outputs": [],
   "source": [
    "print(\"CHALLANGE #41\")\n",
    "print(\"*************\")"
   ]
  }
 ],
 "metadata": {
  "kernelspec": {
   "display_name": "Python 3.10.7 64-bit",
   "language": "python",
   "name": "python3"
  },
  "language_info": {
   "codemirror_mode": {
    "name": "ipython",
    "version": 3
   },
   "file_extension": ".py",
   "mimetype": "text/x-python",
   "name": "python",
   "nbconvert_exporter": "python",
   "pygments_lexer": "ipython3",
   "version": "3.10.7"
  },
  "orig_nbformat": 4,
  "vscode": {
   "interpreter": {
    "hash": "369f2c481f4da34e4445cda3fffd2e751bd1c4d706f27375911949ba6bb62e1c"
   }
  }
 },
 "nbformat": 4,
 "nbformat_minor": 2
}
